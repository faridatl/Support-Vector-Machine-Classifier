{
 "cells": [
  {
   "cell_type": "markdown",
   "id": "5000535d",
   "metadata": {},
   "source": [
    "# Faridat Lawal\n",
    "# DTSC 710\n",
    "# Assignment 6\n",
    "# April 15th, 2022"
   ]
  },
  {
   "cell_type": "code",
   "execution_count": 1,
   "id": "f2ed58c8",
   "metadata": {},
   "outputs": [],
   "source": [
    "# Import and store packages needed for classification and visualization \n",
    "import pandas as pd # save package name under variable name for easier access/usage\n",
    "import numpy as np # save package name under variable name for easuer acces/usage\n",
    "from sklearn.model_selection import KFold # import package/library to split data into train and test data\n",
    "from sklearn import svm # import package/library to conduct classification performance of a supprt vector machine classifier\n",
    "from sklearn.multiclass import OneVsOneClassifier # import store package to aid in plot for multiclass roc graph\n",
    "from sklearn.multiclass import OneVsRestClassifier\n",
    "from sklearn.preprocessing import StandardScaler # import packages to standardize and scale dataset for MLP classifier\n",
    "from sklearn.metrics import accuracy_score, classification_report, confusion_matrix, ConfusionMatrixDisplay, roc_curve, plot_roc_curve, roc_auc_score, auc # compute accuracy_score, classification report and confusion matrix for MLP classifier model; will aid in creation and calculation of auc and plot roc\n",
    "import matplotlib.pyplot as plt # import package to plot and show graph of ROC for classes\n",
    "from sklearn.preprocessing import label_binarize # import package to binarize classes in accelerometer dataset"
   ]
  },
  {
   "cell_type": "code",
   "execution_count": 2,
   "id": "ba151b3c",
   "metadata": {},
   "outputs": [
    {
     "data": {
      "text/plain": [
       "0     0\n",
       "1     0\n",
       "2     0\n",
       "3     0\n",
       "4     0\n",
       "5     0\n",
       "6     0\n",
       "7     0\n",
       "8     0\n",
       "9     0\n",
       "10    0\n",
       "dtype: int64"
      ]
     },
     "execution_count": 2,
     "metadata": {},
     "output_type": "execute_result"
    }
   ],
   "source": [
    "# Import dataset and check for null values \n",
    "glass = pd.read_csv(\"/Users/faridatlawal/DTSC710/Assignment6/glass.csv\", header=None) # read in dataset from file on computer and save to a variable name \n",
    "glass.isnull().sum() # check dataset for null values "
   ]
  },
  {
   "cell_type": "code",
   "execution_count": 3,
   "id": "c1208a81",
   "metadata": {},
   "outputs": [],
   "source": [
    "# Split dataset into X and y for training and testing\n",
    "X = glass.iloc[:,:10] # creates a dataframe of all features needed for training and testing in the glass dataset this will only include 10 columns \n",
    "y = glass.iloc[:,10] # creates a dataframe for target variable/classes "
   ]
  },
  {
   "cell_type": "code",
   "execution_count": 4,
   "id": "643c772d",
   "metadata": {},
   "outputs": [],
   "source": [
    "# Implement K Fold Cross Validation \n",
    "k = 5 # save number of folds to variable name for easier access\n",
    "cv = KFold(k, random_state = 73, shuffle = True) # create 5-fold cross validation that will be used to train and test our feature and target datasets"
   ]
  },
  {
   "cell_type": "code",
   "execution_count": 5,
   "id": "bf71bd14",
   "metadata": {},
   "outputs": [],
   "source": [
    "# Standardize/scale dataset\n",
    "sc = StandardScaler() # save package name to variable for easier access/usage\n",
    "sc.fit(X) # fit X dataset to standard scaler function\n",
    "x=sc.transform(X) # transform values in X dataset and store new values in variable name "
   ]
  },
  {
   "cell_type": "code",
   "execution_count": 6,
   "id": "257ca796",
   "metadata": {},
   "outputs": [
    {
     "data": {
      "text/plain": [
       "[0.9302325581395349,\n",
       " 0.9302325581395349,\n",
       " 0.9302325581395349,\n",
       " 0.8372093023255814,\n",
       " 0.9285714285714286]"
      ]
     },
     "execution_count": 6,
     "metadata": {},
     "output_type": "execute_result"
    }
   ],
   "source": [
    "# Support Vector Machine (SVC) Classifier\n",
    "svc = OneVsRestClassifier(svm.SVC(kernel='linear', C=100, probability=True,random_state=73, decision_function_shape='ovo')) # create and store SVC classifier using the OVR classifier because dataset has 7 classes\n",
    "#preds = OneVsRestClassifier(svm.SVC(kernel='linear', C=1, probability=True,random_state=73)) # create and store SVC classifier using the OVR classifier because dataset has 7 classes\n",
    "acc_score = [] # empty array that will hold accuracy score for each fold\n",
    "for train_index, test_index in cv.split(X): # creates for loop that will loop through each instance in the feature dataset and apply Kfold function to create training and testing sets\n",
    "    X_train, X_test = X.iloc[train_index,:], X.iloc[test_index,:] # creates X train and test datasets and stores them\n",
    "    y_train, y_test = y[train_index], y[test_index] # creates y train and test datasets and stores them\n",
    "    svc.fit(X_train, y_train) # fit the x and y training sets to the SVC classifier\n",
    "    y_preds = svc.predict(X_test) # predict the y target varaible/value from the provided X testing set\n",
    "    #svc.decision_function_shape= 'ovr'\n",
    "    #test = svc.decision_function([[1]])\n",
    "    pred_prob = svc.predict_proba(X_test) # calculate and store prediction probabilities to use for ROC graph\n",
    "    acc= accuracy_score(y_test, y_preds) # calculates the overall accuracy of the svc classifier model performance for each fold\n",
    "    acc_score.append(acc) # appends/stores this accuracy value for each fold into empty array created above\n",
    "    \n",
    "acc_score # returns the accuracy score of the svc classifier calculated for each fold "
   ]
  },
  {
   "cell_type": "code",
   "execution_count": 7,
   "id": "5795c2d7",
   "metadata": {},
   "outputs": [
    {
     "name": "stdout",
     "output_type": "stream",
     "text": [
      "Overall Accuracy: 0.911295681063123\n",
      "              precision    recall  f1-score   support\n",
      "\n",
      "           1       1.00      1.00      1.00        14\n",
      "           2       0.94      0.94      0.94        16\n",
      "           3       1.00      0.50      0.67         2\n",
      "           5       0.60      1.00      0.75         3\n",
      "           6       1.00      1.00      1.00         2\n",
      "           7       1.00      0.80      0.89         5\n",
      "\n",
      "    accuracy                           0.93        42\n",
      "   macro avg       0.92      0.87      0.87        42\n",
      "weighted avg       0.95      0.93      0.93        42\n",
      "\n"
     ]
    },
    {
     "data": {
      "text/plain": [
       "<sklearn.metrics._plot.confusion_matrix.ConfusionMatrixDisplay at 0x7faaf7fe3a90>"
      ]
     },
     "execution_count": 7,
     "metadata": {},
     "output_type": "execute_result"
    },
    {
     "data": {
      "image/png": "[encoded data removed]",
      "text/plain": [
       "<Figure size 432x288 with 2 Axes>"
      ]
     },
     "metadata": {
      "needs_background": "light"
     },
     "output_type": "display_data"
    }
   ],
   "source": [
    "# Compute Overall Accuracy, Confusion Matrix and Classification Report\n",
    "print('Overall Accuracy:', np.mean(acc_score)) # calculates and returns the overall average of all 5 accuracy scores from 5-fold cross validation for the svc classifier\n",
    "cm_svc = confusion_matrix(y_test, y_preds) # creates and stores the confusion matrix for the svc classifier; will be used to calculate Specificity\n",
    "print(classification_report(y_test, y_preds, zero_division= 0, target_names=('1', '2', '3', '5', '6', '7'))) # prints classification report on mlp model; includes Sensitivity(Recall) and F1 scores for each class as well as Precision and model accuracy\n",
    "cmplt = ConfusionMatrixDisplay(confusion_matrix(y_test, y_preds), display_labels = svc.classes_) # creates a visual graph of the confusion matrix for the mlp classifier\n",
    "cmplt.plot() # plots confucion matrix of svc classifier"
   ]
  },
  {
   "cell_type": "code",
   "execution_count": 8,
   "id": "2915e7d3",
   "metadata": {},
   "outputs": [
    {
     "name": "stdout",
     "output_type": "stream",
     "text": [
      "Class 1 Specificity: 1.0\n",
      "Class 2 Specificity: 0.9615384615384616\n",
      "Class 3 Specificity: 1.0\n",
      "Class 5 Specificity: 0.9487179487179487\n",
      "Class 6 Specificity: 1.0\n",
      "Class 7 Specificity: 1.0\n"
     ]
    }
   ],
   "source": [
    "# Calculate Specificity for all six classes in glass dataset\n",
    "\"\"\" Assigning TP, TN, FN, & FP values to the proper class\"\"\"\n",
    "TP1 = cm_svc[0,0] # true positive value for class 1 from confusion matrix for access/usage\n",
    "TP2 = cm_svc[1,1] # true positive value for class 2 from confusion matrix for access/usage\n",
    "TP3 = cm_svc[2,2] # true positive value for class 3 from confusion matrix for access/usage\n",
    "TP5 = cm_svc[3,3] # true positive value for class 5 from confusion matrix for access/usage\n",
    "TP6 = cm_svc[4,4] # true positive value for class 6 from confusion matrix for acces/usage\n",
    "TP7 = cm_svc[5,5] # true positive value for class 7 from confusion matrix for acces/usage\n",
    "\n",
    "FN1 = cm_svc[0,1] + cm_svc[0,2] + cm_svc[0,3] + cm_svc[0,4] + cm_svc[0,5] # false negative value for class 1 from confusion matrix for access/usage\n",
    "FN2 = cm_svc[1,0] + cm_svc[1,2] + cm_svc[1,3] + cm_svc[1,4] + cm_svc[1,5] # false negative value for class 2 from confusion matrix for access/usage\n",
    "FN3 = cm_svc[2,0] + cm_svc[2,1] + cm_svc[2,3] + cm_svc[2,4] + cm_svc[2,5] # false negative value for class 3 from confusion matrix for access/usage\n",
    "FN5 = cm_svc[3,0] + cm_svc[3,1] + cm_svc[3,2] + cm_svc[3,4] + cm_svc[3,5] # false negative value for class 5 from confusion matrix for access/usage\n",
    "FN6 = cm_svc[4,0] + cm_svc[4,1] + cm_svc[4,2] + cm_svc[4,3] + cm_svc[4,5] # false negative value for class 6 from confusion matrix for access/usage\n",
    "FN7 = cm_svc[5,0] + cm_svc[5,1] + cm_svc[5,2] + cm_svc[5,3] + cm_svc[5,4] # false negative value for class 7 from confusion matrix for access/usage\n",
    "\n",
    "TN1 = TP2 + TP3 + TP5 + TP6 + TP7 + cm_svc[2,1] + cm_svc[3,1] + cm_svc[5,3] # true negative value for class 1 from confusion matrix for access/usage\n",
    "TN2 = TP1 + TP3 + TP5 + TP6 + TP7 + cm_svc[5,3] # true negative value for class 2 from confusion matrix for access/usage\n",
    "TN3 = TP1 + TP2 + TP5 + TP6 + TP7 + cm_svc[5,3] + cm_svc[3,1] # true negative value for class 3 from confusion matrix for access/usage\n",
    "TN5 = TP1 + TP2 + TP3 + TP6 + TP7 + cm_svc[2,1] # true negative value for class 5 from confusion matrix for access/usage\n",
    "TN6 = TP1 + TP2 + TP3 + TP5 + TP7 + cm_svc[5,3] + cm_svc[2,1] + cm_svc[3,1] # true negative value for class 6 from confusion matrix for access/usage\n",
    "TN7 = TP1 + TP2 + TP3 + TP5 + TP6 + cm_svc[2,1] + cm_svc[3,1] # true negative value for class 7 from confusion matrix for access/usage\n",
    "\n",
    "FP1 = cm_svc[1,0] + cm_svc[2,0] + cm_svc[3,0] + cm_svc[4,0] + cm_svc[5,0] # false positive value for class 1 from confusion matrix for access/usage\n",
    "FP2 = cm_svc[0,1] + cm_svc[2,1] + cm_svc[3,1] + cm_svc[4,1] + cm_svc[5,1] # false positive value for class 2 from confusion matrix for access/usage\n",
    "FP3 = cm_svc[0,2] + cm_svc[1,2] + cm_svc[3,2] + cm_svc[4,2] + cm_svc[5,2] # false positive value for class 3 from confusion matrix for access/usage\n",
    "FP5 = cm_svc[0,3] + cm_svc[1,3] + cm_svc[2,3] + cm_svc[4,3] + cm_svc[5,3] # false positive value for class 5 from confusion matrix for access/usage\n",
    "FP6 = cm_svc[0,4] + cm_svc[1,4] + cm_svc[2,4] + cm_svc[3,4] + cm_svc[5,4] # false positive value for class 6 from confusion matrix for access/usage\n",
    "FP7 = cm_svc[0,5] + cm_svc[1,5] + cm_svc[2,5] + cm_svc[3,5] + cm_svc[4,5] # false positive value for class 7 from confusion matrix for access/usage\n",
    "\n",
    "\n",
    "\"\"\" Specificity MLP: TN/TN+FP\"\"\"\n",
    "print(\"Class 1 Specificity:\", TN1/(TN1 + FP1)) # calculates and prints the specificity rate of class 1 for model performance based on values from confusion matrix\n",
    "print(\"Class 2 Specificity:\", TN2/(TN2 + FP2)) # calculates and prints the specificity rate of class 2 for model performance based on values from confusion matrix\n",
    "print(\"Class 3 Specificity:\", TN3/(TN3 + FP3)) # calculates and prints the specificity rate of class 3 for model performance based on values from confusion matrix\n",
    "print(\"Class 5 Specificity:\", TN5/(TN5 + FP5)) # calculates and prints the specificity rate of class 5 for model performance based on values from confusion matrix\n",
    "print(\"Class 6 Specificity:\", TN6/(TN6 + FP6)) # calculates and prints the specificity rate of class 6 for model performance based on values from confusion matrix\n",
    "print(\"Class 7 Specificity:\", TN7/(TN7 + FP7)) # calculates and prints the specificity rate of class 7 for model performance based on values from confusion matrix"
   ]
  },
  {
   "cell_type": "code",
   "execution_count": 9,
   "id": "625f2a58",
   "metadata": {},
   "outputs": [],
   "source": [
    "# Binarize class labels from dataset\n",
    "yt_binarize = label_binarize(y_test, classes= np.unique(y_test)) # binarizes the classes for ROC graph\n",
    "labels = ('1', '2', '3', '5', '6', '7') # stores class label names in variable"
   ]
  },
  {
   "cell_type": "code",
   "execution_count": 10,
   "id": "de73a966",
   "metadata": {},
   "outputs": [
    {
     "data": {
      "image/png": "[encoded data removed]",
      "text/plain": [
       "<Figure size 432x288 with 1 Axes>"
      ]
     },
     "metadata": {
      "needs_background": "light"
     },
     "output_type": "display_data"
    }
   ],
   "source": [
    "# Plotting ROC and AUC\n",
    "\n",
    "fpr = {} # creates an empty dictionary that will hold the false positive rate for each class \n",
    "tpr = {} # creates an empty dictionary that will hold the true positive rate for each class \n",
    "thr = {} # creates an empty dictionary that will hold the threshold \n",
    "roc_auc = dict() # creates an empty dictionary that will hold the AUC score for each class \n",
    "n_class = 6 # stores the value of classes as a variable\n",
    "\n",
    "for i in range(n_class): # creates for loop for that will loop only 6 times (this is the number of classes we have for glass dataset)\n",
    "    fpr[i], tpr[i], thr[i] = roc_curve(yt_binarize[:,i], pred_prob[:,i]) # calculates, creates and stores the fpr, tpr and threshold for each class in the glass dataset\n",
    "    roc_auc[i] = auc(fpr[i], tpr[i]) # calculates, creates and stores the auc score for each class in the glass dataset\n",
    "    \n",
    "    #plotting of ROC and AUC score for each class\n",
    "    plt.plot(fpr[i], tpr[i], linestyle='--',\n",
    "            label= '%s vs Rest (AUC=%0.2f)'%(labels[i], roc_auc[i]))\n",
    "    \n",
    "    \n",
    "plt.plot([0,1], [0,1], 'b--') #plot baseline\n",
    "plt.xlim([0,1]) # set x axis limitation\n",
    "plt.ylim([0,1.05]) # set y axis limitation\n",
    "plt.title('Glass Multi-Class ROC Curve') # add title to graph\n",
    "plt.xlabel('False Positive Rate') # add xlabel to graph\n",
    "plt.ylabel('True Positive Rate') # add ylabel to graph\n",
    "plt.legend(loc='lower right') # add legend and set location as bottom right of graph\n",
    "plt.show() # display/show the graph created"
   ]
  },
  {
   "cell_type": "code",
   "execution_count": 14,
   "id": "db464799",
   "metadata": {},
   "outputs": [
    {
     "data": {
      "text/plain": [
       "numpy.ndarray"
      ]
     },
     "execution_count": 14,
     "metadata": {},
     "output_type": "execute_result"
    }
   ],
   "source": [
    "type(pred_prob)"
   ]
  },
  {
   "cell_type": "code",
   "execution_count": 13,
   "id": "398a8e29",
   "metadata": {},
   "outputs": [
    {
     "data": {
      "text/plain": [
       "42"
      ]
     },
     "execution_count": 13,
     "metadata": {},
     "output_type": "execute_result"
    }
   ],
   "source": [
    "len(y_preds)"
   ]
  }
 ],
 "metadata": {
  "kernelspec": {
   "display_name": "Python 3 (ipykernel)",
   "language": "python",
   "name": "python3"
  },
  "language_info": {
   "codemirror_mode": {
    "name": "ipython",
    "version": 3
   },
   "file_extension": ".py",
   "mimetype": "text/x-python",
   "name": "python",
   "nbconvert_exporter": "python",
   "pygments_lexer": "ipython3",
   "version": "3.8.8"
  }
 },
 "nbformat": 4,
 "nbformat_minor": 5
}
